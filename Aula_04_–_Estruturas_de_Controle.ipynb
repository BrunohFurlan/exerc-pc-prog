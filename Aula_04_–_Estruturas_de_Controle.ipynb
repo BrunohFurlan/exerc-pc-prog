{
  "nbformat": 4,
  "nbformat_minor": 0,
  "metadata": {
    "colab": {
      "provenance": []
    },
    "kernelspec": {
      "name": "python3",
      "display_name": "Python 3"
    },
    "language_info": {
      "name": "python"
    }
  },
  "cells": [
    {
      "cell_type": "code",
      "execution_count": null,
      "metadata": {
        "id": "-dWyG8iRXj9-"
      },
      "outputs": [],
      "source": [
        "# Programa para calcular a média de duas notas e verificar aprovação\n",
        "nota1 = float(input(\"Digite a primeira nota: \"))\n",
        "nota2 = float(input(\"Digite a segunda nota: \"))\n",
        "\n",
        "media = (nota1 + nota2) / 2\n",
        "\n",
        "if media >= 7:\n",
        "    print(f\"Média: {media:} - Aluno Aprovado\")\n",
        "else:\n",
        "    print(f\"Média: {media:} - Aluno Reprovado\")"
      ]
    },
    {
      "cell_type": "code",
      "source": [
        "# Programa para determinar o maior entre dois valores inteiros\n",
        "valor1 = int(input(\"Digite o primeiro valor inteiro: \"))\n",
        "valor2 = int(input(\"Digite o segundo valor inteiro: \"))\n",
        "\n",
        "if valor1 > valor2:\n",
        "    print(f\"O maior valor é: {valor1}\")\n",
        "elif valor2 > valor1:\n",
        "    print(f\"O maior valor é: {valor2}\")\n",
        "else:\n",
        "    print(\"Os valores são iguais.\")"
      ],
      "metadata": {
        "id": "WEPLOto_XxGJ"
      },
      "execution_count": null,
      "outputs": []
    },
    {
      "cell_type": "code",
      "source": [
        "# Programa para verificar se um veículo sofrerá multa por excesso de velocidade\n",
        "velocidade_permitida = float(input(\"Digite a velocidade máxima permitida na rodovia: \"))\n",
        "velocidade_veiculo = float(input(\"Digite a velocidade do veículo: \"))\n",
        "\n",
        "if velocidade_veiculo > velocidade_permitida:\n",
        "    print(\"O veículo sofrerá multa.\")\n",
        "else:\n",
        "    print(\"O veículo está dentro da velocidade permitida.\")"
      ],
      "metadata": {
        "id": "LdIVWVSzXyDn"
      },
      "execution_count": null,
      "outputs": []
    },
    {
      "cell_type": "code",
      "source": [
        "# Programa para determinar o maior entre três valores inteiros\n",
        "valor1 = int(input(\"Digite o primeiro valor inteiro: \"))\n",
        "valor2 = int(input(\"Digite o segundo valor inteiro: \"))\n",
        "valor3 = int(input(\"Digite o terceiro valor inteiro: \"))\n",
        "\n",
        "maior = valor1\n",
        "\n",
        "if valor2 > maior:\n",
        "    maior = valor2\n",
        "if valor3 > maior:\n",
        "    maior = valor3\n",
        "\n",
        "print(f\"O maior valor é: {maior}\")"
      ],
      "metadata": {
        "id": "5eviTnwfX4rv"
      },
      "execution_count": null,
      "outputs": []
    }
  ]
}