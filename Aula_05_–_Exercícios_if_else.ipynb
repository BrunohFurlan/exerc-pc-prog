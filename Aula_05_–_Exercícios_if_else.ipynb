{
  "nbformat": 4,
  "nbformat_minor": 0,
  "metadata": {
    "colab": {
      "provenance": []
    },
    "kernelspec": {
      "name": "python3",
      "display_name": "Python 3"
    },
    "language_info": {
      "name": "python"
    }
  },
  "cells": [
    {
      "cell_type": "code",
      "execution_count": null,
      "metadata": {
        "id": "EdFPLp-lY4-R"
      },
      "outputs": [],
      "source": [
        "\n",
        "# Programa para calcular o peso ideal com base na altura e sexo\n",
        "altura = float(input(\"Digite a altura da pessoa (em metros): \"))\n",
        "sexo = input(\"Digite o sexo da pessoa (M para masculino, F para feminino): \")\n",
        "\n",
        "if sexo == 'M':\n",
        "    peso_ideal = (72.7 * altura) - 58\n",
        "else:\n",
        "    peso_ideal = (62.1 * altura) - 44.7\n",
        "\n",
        "print(f\"O peso ideal é: {peso_ideal:} kg\")"
      ]
    },
    {
      "cell_type": "code",
      "source": [
        "# Programa para determinar a categoria de natação com base na idade\n",
        "idade = int(input(\"Digite a idade do nadador: \"))\n",
        "\n",
        "categoria = \"\"\n",
        "\n",
        "if idade <= 8:\n",
        "    categoria = \"Infantil A\"\n",
        "if idade > 8:\n",
        "    if idade < 13:\n",
        "        categoria = \"Infantil B\"\n",
        "if idade >= 13:\n",
        "    if idade < 18:\n",
        "        categoria = \"Juvenil A\"\n",
        "if idade >= 18:\n",
        "    if idade < 21:\n",
        "        categoria = \"Juvenil B\"\n",
        "if idade >= 21:\n",
        "    categoria = \"Sênior\"\n",
        "\n",
        "print(f\"A categoria do nadador é: {categoria}\")"
      ],
      "metadata": {
        "id": "Oj2TI4LuZOKn"
      },
      "execution_count": null,
      "outputs": []
    },
    {
      "cell_type": "code",
      "source": [
        "# Programa para calcular o desconto e o valor a ser pago\n",
        "valor_compra = float(input(\"Digite o valor da compra: R$ \"))\n",
        "\n",
        "if valor_compra >= 500:\n",
        "    desconto = valor_compra * 0.25\n",
        "if valor_compra < 500:\n",
        "    if valor_compra >= 200:\n",
        "        desconto = valor_compra * 0.20\n",
        "if valor_compra < 200:\n",
        "    desconto = valor_compra * 0.15\n",
        "\n",
        "valor_a_pagar = valor_compra - desconto\n",
        "\n",
        "print(f\"Valor da compra: R$ {valor_compra:}\")\n",
        "print(f\"Valor do desconto: R$ {desconto:}\")\n",
        "print(f\"Valor a ser pago: R$ {valor_a_pagar:}\")"
      ],
      "metadata": {
        "colab": {
          "base_uri": "https://localhost:8080/"
        },
        "id": "buuB4SjeZPim",
        "outputId": "587641a6-a3a9-4273-8a8a-0a3d32334351"
      },
      "execution_count": 1,
      "outputs": [
        {
          "output_type": "stream",
          "name": "stdout",
          "text": [
            "Digite o valor da compra: R$ 500\n",
            "Valor da compra: R$ 500.0\n",
            "Valor do desconto: R$ 125.0\n",
            "Valor a ser pago: R$ 375.0\n"
          ]
        }
      ]
    },
    {
      "cell_type": "code",
      "source": [
        "# Programa para calcular o IMC e determinar a condição da pessoa\n",
        "peso = float(input(\"Digite o peso da pessoa (em kg): \"))\n",
        "altura = float(input(\"Digite a altura da pessoa (em metros): \"))\n",
        "\n",
        "imc = peso / (altura ** 2)\n",
        "\n",
        "if imc < 18:\n",
        "    condicao = \"Abaixo do peso\"\n",
        "else:\n",
        "    if imc <= 25:\n",
        "        condicao = \"Normal\"\n",
        "    else:\n",
        "        if imc <= 30:\n",
        "            condicao = \"Acima do peso\"\n",
        "        else:\n",
        "            condicao = \"Obeso(a)\"\n",
        "\n",
        "print(f\"IMC: {imc:.2f}\")\n",
        "print(f\"Condição: {condicao}\")"
      ],
      "metadata": {
        "id": "NxCGWxZoZuOg"
      },
      "execution_count": null,
      "outputs": []
    },
    {
      "cell_type": "code",
      "source": [
        "# Programa para verificar se três medidas podem formar um triângulo\n",
        "a = float(input(\"Digite a medida a: \"))\n",
        "b = float(input(\"Digite a medida b: \"))\n",
        "c = float(input(\"Digite a medida c: \"))\n",
        "\n",
        "if a + b > c:\n",
        "    if a + c > b:\n",
        "        if b + c > a:\n",
        "            if a == b:\n",
        "                if b == c:\n",
        "                    tipo_triangulo = \"Equilátero\"\n",
        "                else:\n",
        "                    tipo_triangulo = \"Isósceles\"\n",
        "            else:\n",
        "                if a == c or b == c:\n",
        "                    tipo_triangulo = \"Isósceles\"\n",
        "                else:\n",
        "                    tipo_triangulo = \"Escaleno\"\n",
        "            print(\"As medidas podem formar um triângulo.\")\n",
        "            print(f\"Tipo de triângulo: {tipo_triangulo}\")\n",
        "        else:\n",
        "            print(\"As medidas não podem formar um triângulo.\")\n",
        "    else:\n",
        "        print(\"As medidas não podem formar um triângulo.\")\n",
        "else:\n",
        "    print(\"As medidas não podem formar um triângulo.\")"
      ],
      "metadata": {
        "id": "HyH54qCAaJss"
      },
      "execution_count": null,
      "outputs": []
    },
    {
      "cell_type": "code",
      "source": [
        "# Programa para verificar se um ano é bissexto\n",
        "ano = int(input(\"Digite um ano: \"))\n",
        "\n",
        "if (ano % 400 == 0):\n",
        "    print(\"O ano é bissexto.\")\n",
        "else:\n",
        "    if (ano % 4 == 0):\n",
        "        if (ano % 100 != 0):\n",
        "            print(\"O ano é bissexto.\")\n",
        "        else:\n",
        "            print(\"O ano não é bissexto.\")\n",
        "    else:\n",
        "        print(\"O ano não é bissexto.\")"
      ],
      "metadata": {
        "id": "SJocfCf_aKmk"
      },
      "execution_count": null,
      "outputs": []
    },
    {
      "cell_type": "code",
      "source": [
        "# Programa para determinar em qual quadrante um ângulo está\n",
        "angulo = float(input(\"Digite a medida do ângulo (em graus): \"))\n",
        "angulo = angulo % 360  # Considera ângulos congruentes\n",
        "\n",
        "if angulo <= 90:\n",
        "    quadrante = \"1º Quadrante\"\n",
        "else:\n",
        "    if angulo <= 180:\n",
        "        quadrante = \"2º Quadrante\"\n",
        "    else:\n",
        "        if angulo <= 270:\n",
        "            quadrante = \"3º Quadrante\"\n",
        "        else:\n",
        "            quadrante = \"4º Quadrante\"\n",
        "\n",
        "print(f\"O ângulo está no: {quadrante}\")"
      ],
      "metadata": {
        "id": "iWn8lld1aNDt"
      },
      "execution_count": null,
      "outputs": []
    },
    {
      "cell_type": "code",
      "source": [
        "# Programa para ordenar três valores inteiros\n",
        "a = int(input(\"Digite o valor de a: \"))\n",
        "b = int(input(\"Digite o valor de b: \"))\n",
        "c = int(input(\"Digite o valor de c: \"))\n",
        "\n",
        "# Inicializa as variáveis para armazenar os valores ordenados\n",
        "menor = a\n",
        "maior = a\n",
        "intermediario = b\n",
        "\n",
        "if b < menor:\n",
        "    menor = b\n",
        "if c < menor:\n",
        "    menor = c\n",
        "\n",
        "if b > maior:\n",
        "    maior = b\n",
        "if c > maior:\n",
        "    maior = c\n",
        "\n",
        "if (a != menor) and (a != maior):\n",
        "    intermediario = a\n",
        "else:\n",
        "    if (b != menor) and (b != maior):\n",
        "        intermediario = b\n",
        "    else:\n",
        "        intermediario = c\n",
        "\n",
        "print(f\"Ordem crescente: {menor}, {intermediario}, {maior}\")"
      ],
      "metadata": {
        "id": "0igmqfgSaMXH"
      },
      "execution_count": null,
      "outputs": []
    }
  ]
}