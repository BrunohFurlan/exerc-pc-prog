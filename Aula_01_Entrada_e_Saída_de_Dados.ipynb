{
  "nbformat": 4,
  "nbformat_minor": 0,
  "metadata": {
    "colab": {
      "provenance": [],
      "authorship_tag": "ABX9TyONspZWU14Mn9wWC63sJqUA",
      "include_colab_link": true
    },
    "kernelspec": {
      "name": "python3",
      "display_name": "Python 3"
    },
    "language_info": {
      "name": "python"
    }
  },
  "cells": [
    {
      "cell_type": "markdown",
      "metadata": {
        "id": "view-in-github",
        "colab_type": "text"
      },
      "source": [
        "<a href=\"https://colab.research.google.com/github/BrunohFurlan/exercicios-cc/blob/main/Aula_01_Entrada_e_Sa%C3%ADda_de_Dados.ipynb\" target=\"_parent\"><img src=\"https://colab.research.google.com/assets/colab-badge.svg\" alt=\"Open In Colab\"/></a>"
      ]
    },
    {
      "cell_type": "code",
      "execution_count": null,
      "metadata": {
        "id": "Txj2sGaCUICt"
      },
      "outputs": [],
      "source": [
        "# Algoritmo para calcular a média aritmética\n",
        "nota1 = float(input(\"Digite a primeira nota: \"))\n",
        "nota2 = float(input(\"Digite a segunda nota: \"))\n",
        "media = (nota1 + nota2) / 2\n",
        "print(f\"A média é: {media}\")"
      ]
    },
    {
      "cell_type": "code",
      "source": [
        "# Algoritmo para calcular o perímetro e a área de um terreno retangular\n",
        "comprimento = float(input(\"Digite o comprimento do terreno: \"))\n",
        "largura = float(input(\"Digite a largura do terreno: \"))\n",
        "perimetro = 2 * (comprimento + largura)\n",
        "area = comprimento * largura\n",
        "print(f\"O perímetro do terreno é: {perimetro}\")\n",
        "print(f\"A área do terreno é: {area}\")"
      ],
      "metadata": {
        "id": "bcI5CTiVUMTU"
      },
      "execution_count": null,
      "outputs": []
    },
    {
      "cell_type": "code",
      "source": [
        "# Algoritmo para calcular o novo preço de um produto com desconto\n",
        "preco = float(input(\"Digite o preço do produto: \"))\n",
        "novo_preco = preco - (preco * 0.10)\n",
        "print(f\"O novo preço do produto com desconto é: {novo_preco}\")"
      ],
      "metadata": {
        "id": "Yx-k2B5ZUUQX"
      },
      "execution_count": null,
      "outputs": []
    },
    {
      "cell_type": "code",
      "source": [],
      "metadata": {
        "id": "fm7e9dBFUVJc"
      },
      "execution_count": null,
      "outputs": []
    }
  ]
}