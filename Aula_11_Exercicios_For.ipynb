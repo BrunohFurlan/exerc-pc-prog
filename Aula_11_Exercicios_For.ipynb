{
 "cells": [
  {
   "cell_type": "markdown",
   "id": "1b4d633a",
   "metadata": {},
   "source": [
    "# Aula 11 – Estrutura de Repetição com `for`\n",
    "\n",
    "Este notebook contém a resolução dos exercícios da Aula 11, aplicando a estrutura `for` com `range`, conforme estudado."
   ]
  },
  {
   "cell_type": "markdown",
   "id": "395d7e22",
   "metadata": {},
   "source": [
    "## ✅ Exercício 1: Soma de 10 números lidos pelo teclado"
   ]
  },
  {
   "cell_type": "code",
   "execution_count": null,
   "id": "4428bc13",
   "metadata": {},
   "outputs": [],
   "source": [
    "soma = 0\n",
    "\n",
    "for i in range(10):\n",
    "    numero = int(input(f\"Digite o {i+1}º número: \"))\n",
    "    soma += numero\n",
    "\n",
    "print(\"Soma dos 10 números:\", soma)"
   ]
  },
  {
   "cell_type": "markdown",
   "id": "c2cbd441",
   "metadata": {},
   "source": [
    "## ✅ Exercício 2: Cálculo do fatorial de um número"
   ]
  },
  {
   "cell_type": "code",
   "execution_count": null,
   "id": "94583187",
   "metadata": {},
   "outputs": [],
   "source": [
    "n = int(input(\"Digite um número para calcular o fatorial: \"))\n",
    "fatorial = 1\n",
    "\n",
    "for i in range(1, n + 1):\n",
    "    fatorial *= i\n",
    "\n",
    "print(f\"O fatorial de {n} é {fatorial}\")"
   ]
  },
  {
   "cell_type": "markdown",
   "id": "fce48394",
   "metadata": {},
   "source": [
    "## ✅ Exercício 3: Mostrar todos os divisores de um número"
   ]
  },
  {
   "cell_type": "code",
   "execution_count": null,
   "id": "aaf4a68d",
   "metadata": {},
   "outputs": [],
   "source": [
    "n = int(input(\"Digite um número para ver seus divisores: \"))\n",
    "\n",
    "print(\"Divisores de\", n, \":\")\n",
    "\n",
    "for i in range(1, n + 1):\n",
    "    if n % i == 0:\n",
    "        print(i)"
   ]
  },
  {
   "cell_type": "markdown",
   "id": "9bbbd15b",
   "metadata": {},
   "source": [
    "## ✅ Exercício 4: Verificar se um número é primo"
   ]
  },
  {
   "cell_type": "code",
   "execution_count": null,
   "id": "7fc9d45c",
   "metadata": {},
   "outputs": [],
   "source": [
    "n = int(input(\"Digite um número para verificar se é primo: \"))\n",
    "divisores = 0\n",
    "\n",
    "for i in range(1, n + 1):\n",
    "    if n % i == 0:\n",
    "        divisores += 1\n",
    "\n",
    "if divisores == 2:\n",
    "    print(n, \"é primo\")\n",
    "else:\n",
    "    print(n, \"não é primo\")"
   ]
  },
  {
   "cell_type": "markdown",
   "id": "127b4c50",
   "metadata": {},
   "source": [
    "## ✅ Exercício 5: Verificar se um número é perfeito"
   ]
  },
  {
   "cell_type": "code",
   "execution_count": null,
   "id": "4239d2ca",
   "metadata": {},
   "outputs": [],
   "source": [
    "n = int(input(\"Digite um número para verificar se é perfeito: \"))\n",
    "soma_divisores = 0\n",
    "\n",
    "for i in range(1, n):\n",
    "    if n % i == 0:\n",
    "        soma_divisores += i\n",
    "\n",
    "if soma_divisores == n:\n",
    "    print(n, \"é um número perfeito\")\n",
    "else:\n",
    "    print(n, \"não é um número perfeito\")"
   ]
  }
 ],
 "metadata": {},
 "nbformat": 4,
 "nbformat_minor": 5
}
