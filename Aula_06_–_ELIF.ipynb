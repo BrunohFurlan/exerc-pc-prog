{
  "nbformat": 4,
  "nbformat_minor": 0,
  "metadata": {
    "colab": {
      "provenance": []
    },
    "kernelspec": {
      "name": "python3",
      "display_name": "Python 3"
    },
    "language_info": {
      "name": "python"
    }
  },
  "cells": [
    {
      "cell_type": "code",
      "execution_count": null,
      "metadata": {
        "id": "bUHZtM_wbJFX"
      },
      "outputs": [],
      "source": [
        "# Programa para verificar a idade para ingresso em evento\n",
        "idade = int(input(\"Digite a sua idade: \"))\n",
        "\n",
        "if idade < 12:\n",
        "    print(\"Você pode entrar de graça!\")\n",
        "elif 12 <= idade <= 17:\n",
        "    print(\"Você paga meia entrada!\")\n",
        "elif 18 <= idade <= 64:\n",
        "    print(\"Você paga o valor integral.\")\n",
        "else:\n",
        "    print(\"Você tem direito a desconto especial!\")"
      ]
    },
    {
      "cell_type": "code",
      "source": [
        "# Programa para classificar notas\n",
        "nota = float(input(\"Digite a nota (0 a 100): \"))\n",
        "\n",
        "if nota >= 90:\n",
        "    print(\"Classificação: A\")\n",
        "elif 80 <= nota < 90:\n",
        "    print(\"Classificação: B\")\n",
        "elif 70 <= nota < 80:\n",
        "    print(\"Classificação: C\")\n",
        "elif 60 <= nota < 70:\n",
        "    print(\"Classificação: D\")\n",
        "else:\n",
        "    print(\"Classificação: F\")"
      ],
      "metadata": {
        "id": "oWlkKB9cbOgx"
      },
      "execution_count": null,
      "outputs": []
    },
    {
      "cell_type": "code",
      "source": [
        "# Programa para verificar se um número é par ou ímpar e se é múltiplo de 5\n",
        "numero = int(input(\"Digite um número inteiro: \"))\n",
        "\n",
        "if numero % 2 == 0 and numero % 5 == 0:\n",
        "    print(\"O número é par e múltiplo de 5.\")\n",
        "elif numero % 2 != 0 and numero % 5 == 0:\n",
        "    print(\"O número é ímpar e múltiplo de 5.\")\n",
        "elif numero % 2 == 0:\n",
        "    print(\"O número é par.\")\n",
        "else:\n",
        "    print(\"O número é ímpar.\")"
      ],
      "metadata": {
        "id": "56RUv_P_bNrx"
      },
      "execution_count": null,
      "outputs": []
    },
    {
      "cell_type": "code",
      "source": [
        "# Programa para uma calculadora simples\n",
        "print(\"Calculadora\")\n",
        "num1 = float(input(\"Digite o primeiro número: \"))\n",
        "num2 = float(input(\"Digite o segundo número: \"))\n",
        "operacao = input(\"Escolha a operação (+, -, *, /): \")\n",
        "\n",
        "if operacao == '+':\n",
        "    resultado = num1 + num2\n",
        "    print(f\"Resultado: {resultado}\")\n",
        "else:\n",
        "    if operacao == '-':\n",
        "        resultado = num1 - num2\n",
        "        print(f\"Resultado: {resultado}\")\n",
        "    else:\n",
        "        if operacao == '*':\n",
        "            resultado = num1 * num2\n",
        "            print(f\"Resultado: {resultado}\")\n",
        "        else:\n",
        "            if operacao == '/':\n",
        "                if num2 != 0:\n",
        "                    resultado = num1 / num2\n",
        "                    print(f\"Resultado: {resultado}\")\n",
        "                else:\n",
        "                    print(\"Erro: Divisão por zero não é permitida.\")\n",
        "            else:\n",
        "                print(\"Operação inválida.\")"
      ],
      "metadata": {
        "id": "6WnLSo6HbcEq"
      },
      "execution_count": null,
      "outputs": []
    }
  ]
}