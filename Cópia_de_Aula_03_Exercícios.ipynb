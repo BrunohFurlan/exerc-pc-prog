{
  "nbformat": 4,
  "nbformat_minor": 0,
  "metadata": {
    "colab": {
      "provenance": []
    },
    "kernelspec": {
      "name": "python3",
      "display_name": "Python 3"
    },
    "language_info": {
      "name": "python"
    }
  },
  "cells": [
    {
      "cell_type": "code",
      "execution_count": null,
      "metadata": {
        "id": "v_GBhlqjWHfr"
      },
      "outputs": [],
      "source": [
        "# Programa para converter reais em dólares\n",
        "valor_reais = float(input(\"Digite o valor em reais (R$): \"))\n",
        "cotacao_dolar = float(input(\"Digite a cotação do dólar: R$ \"))\n",
        "\n",
        "if cotacao_dolar != 0:\n",
        "    valor_dolares = valor_reais / cotacao_dolar\n",
        "\n",
        "    print(f\"Valor em dólares ($): {valor_dolares}\")\n",
        "else:\n",
        "    print(\"A cotação do dólar não pode ser zero.\")"
      ]
    },
    {
      "cell_type": "code",
      "source": [
        "# Programa para separar os algarismos de um número inteiro\n",
        "numero = int(input(\"Digite um número inteiro de até 3 algarismos: \"))\n",
        "\n",
        "if 0 <= numero < 1000:\n",
        "    centena = numero // 100\n",
        "    dezena = (numero // 10) % 10\n",
        "    unidade = numero % 10\n",
        "\n",
        "    print(f\"Centena = {centena}, Dezena = {dezena}, Unidade = {unidade}\")\n",
        "else:\n",
        "    print(\"Número fora do intervalo permitido (0 a 999).\")"
      ],
      "metadata": {
        "id": "NzWChjSCWOfS"
      },
      "execution_count": null,
      "outputs": []
    },
    {
      "cell_type": "code",
      "source": [
        "# Programa para trocar valores entre duas variáveis usando uma variável auxiliar\n",
        "A = int(input(\"Digite um valor inteiro positivo para A: \"))\n",
        "B = int(input(\"Digite um valor inteiro positivo para B: \"))\n",
        "\n",
        "aux = A\n",
        "A = B\n",
        "B = aux\n",
        "\n",
        "print(f\"Após a troca: A = {A}, B = {B}\")"
      ],
      "metadata": {
        "id": "28q59XUsWSo-"
      },
      "execution_count": null,
      "outputs": []
    },
    {
      "cell_type": "code",
      "source": [
        "# Programa para converter segundos em horas, minutos e segundos\n",
        "tempo_segundos = int(input(\"Digite o tempo em segundos: \"))\n",
        "\n",
        "horas = tempo_segundos // 3600\n",
        "minutos = (tempo_segundos % 3600) // 60\n",
        "segundos = tempo_segundos % 60\n",
        "\n",
        "print(f\"{tempo_segundos} segundos é igual a: {horas} horas, {minutos} minutos e {segundos} segundos.\")"
      ],
      "metadata": {
        "id": "3Ton5GenWfGD"
      },
      "execution_count": null,
      "outputs": []
    }
  ]
}