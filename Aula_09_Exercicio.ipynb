{
  "cells": [
    {
      "cell_type": "markdown",
      "id": "412c20ed",
      "metadata": {
        "id": "412c20ed"
      },
      "source": [
        "## ✅ Exercício 1: Contar números pares de 1 a 20"
      ]
    },
    {
      "cell_type": "code",
      "execution_count": null,
      "id": "faf9011f",
      "metadata": {
        "id": "faf9011f"
      },
      "outputs": [],
      "source": [
        "numero = 1\n",
        "pares = 0\n",
        "\n",
        "while numero <= 20:\n",
        "    if numero % 2 == 0:\n",
        "        pares += 1\n",
        "    numero += 1\n",
        "\n",
        "print(\"Quantidade de números pares entre 1 e 20:\", pares)"
      ]
    },
    {
      "cell_type": "markdown",
      "id": "0fead434",
      "metadata": {
        "id": "0fead434"
      },
      "source": [
        "## ✅ Exercício 2: Validação de senha"
      ]
    },
    {
      "cell_type": "code",
      "execution_count": null,
      "id": "ba96803b",
      "metadata": {
        "id": "ba96803b"
      },
      "outputs": [],
      "source": [
        "senha_correta = \"1234\"\n",
        "senha = input(\"Digite a senha: \")\n",
        "\n",
        "while senha != senha_correta:\n",
        "    print(\"Senha incorreta. Tente novamente.\")\n",
        "    senha = input(\"Digite a senha: \")\n",
        "\n",
        "print(\"Acesso permitido!\")"
      ]
    },
    {
      "cell_type": "markdown",
      "id": "7a77547b",
      "metadata": {
        "id": "7a77547b"
      },
      "source": [
        "## ✅ Exercício 3: Mostrar números múltiplos de 5 entre 1 e 100"
      ]
    },
    {
      "cell_type": "code",
      "execution_count": null,
      "id": "a190addf",
      "metadata": {
        "id": "a190addf"
      },
      "outputs": [],
      "source": [
        "numero = 1\n",
        "\n",
        "while numero <= 100:\n",
        "    if numero % 5 == 0:\n",
        "        print(numero)\n",
        "    numero += 1"
      ]
    },
    {
      "cell_type": "markdown",
      "id": "dfa7618d",
      "metadata": {
        "id": "dfa7618d"
      },
      "source": [
        "## ✅ Exercício 4: Cálculo da média de idades"
      ]
    },
    {
      "cell_type": "code",
      "execution_count": null,
      "id": "273627b4",
      "metadata": {
        "id": "273627b4"
      },
      "outputs": [],
      "source": [
        "soma = 0\n",
        "quantidade = 0\n",
        "idade = 0  # valor inicial para entrar no laço\n",
        "\n",
        "while idade >= 0:\n",
        "    idade = int(input(\"Digite uma idade (negativa para encerrar): \"))\n",
        "\n",
        "    if idade >= 0:\n",
        "        soma += idade\n",
        "        quantidade += 1\n",
        "\n",
        "if quantidade > 0:\n",
        "    media = soma / quantidade\n",
        "    print(\"Média das idades:\", media)\n",
        "else:\n",
        "    print(\"Nenhuma idade válida foi informada.\")"
      ]
    }
  ],
  "metadata": {
    "colab": {
      "provenance": []
    }
  },
  "nbformat": 4,
  "nbformat_minor": 5
}