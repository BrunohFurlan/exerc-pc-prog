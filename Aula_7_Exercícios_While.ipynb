{
  "cells": [
    {
      "cell_type": "code",
      "execution_count": null,
      "metadata": {
        "id": "5x9Nh04CT8QP"
      },
      "outputs": [],
      "source": [
        "#1.) Faça um algoritmo que mostre os números de 1 a 150\n",
        "\n",
        "x = 0\n",
        "while(x<=150):\n",
        "  print(x)\n",
        "  x = x+1"
      ]
    },
    {
      "cell_type": "code",
      "execution_count": null,
      "metadata": {
        "id": "MRFXsCY7Rb9p"
      },
      "outputs": [],
      "source": [
        "#2) Faça um algoritmo que mostre os números de 50 a 100\n",
        "\n",
        "x = 50\n",
        "while(x<=100):\n",
        "  print(x)\n",
        "  x = x+1"
      ]
    },
    {
      "cell_type": "code",
      "source": [
        "#Exercício que mostra os numeros pares\n",
        "\n",
        "x = 0\n",
        "while(x<=100):\n",
        "  print(x)\n",
        "  x = x+2"
      ],
      "metadata": {
        "id": "C7EOOT_aY00O"
      },
      "execution_count": null,
      "outputs": []
    },
    {
      "cell_type": "code",
      "source": [
        "#3) Faça um algoritmo que faça uma contagem regressiva de um Foguete. O programa deve mostrar: 10, 9, 8 … 1, 0 e FOGO!!\n",
        "x = 10\n",
        "\n",
        "while (x>= 0):\n",
        "    print(x)\n",
        "    x -= 1\n",
        "\n",
        "print(\"fogo\")"
      ],
      "metadata": {
        "colab": {
          "base_uri": "https://localhost:8080/"
        },
        "id": "so65vINhZC1h",
        "outputId": "19f27065-ad2a-4d39-dc19-97db159d361b"
      },
      "execution_count": null,
      "outputs": [
        {
          "output_type": "stream",
          "name": "stdout",
          "text": [
            "10\n",
            "9\n",
            "8\n",
            "7\n",
            "6\n",
            "5\n",
            "4\n",
            "3\n",
            "2\n",
            "1\n",
            "0\n",
            "fogo\n"
          ]
        }
      ]
    },
    {
      "cell_type": "code",
      "execution_count": null,
      "metadata": {
        "colab": {
          "base_uri": "https://localhost:8080/"
        },
        "id": "uu4Uv7zcLphW",
        "outputId": "18b3612d-79ed-4c57-c5cd-67cd8be6f157"
      },
      "outputs": [
        {
          "output_type": "stream",
          "name": "stdout",
          "text": [
            "Digite o numero: 22\n",
            "1\n",
            "3\n",
            "5\n",
            "7\n",
            "9\n",
            "11\n",
            "13\n",
            "15\n",
            "17\n",
            "19\n",
            "21\n"
          ]
        }
      ],
      "source": [
        "#1.) Faça um algoritmo que mostre apenas os números ímpares, de 0 até um valor definido pelo usuário\n",
        "usuario = float(input(\"Digite o numero: \"))\n",
        "x = 1\n",
        "while(x<=usuario):\n",
        "  print(x)\n",
        "  x +=2"
      ]
    },
    {
      "cell_type": "code",
      "execution_count": null,
      "metadata": {
        "id": "m84uP3T5QqX6"
      },
      "outputs": [],
      "source": [
        "#2.)Faça um algoritmo que mostre a TABUADA de multiplicação (0 a 10) de um número escolhido pelo usuário.\n",
        "\n",
        "valor = int(input(\"Digite um valor para mostrar a tabuada: \"))\n",
        "m = 0\n",
        "while (m<=10):\n",
        "    resultado = (valor*m)\n",
        "    print(f\"{resultado}\")\n",
        "    m += 1"
      ]
    },
    {
      "cell_type": "code",
      "source": [
        "#3.) Considerando uma classe com 60 alunos, elabore um algoritmo que leia duas notas de cada aluno, calcule a média e verifique se aluno foi aprovado ou reprovado. Para estar aprovado a média deverá ser maior ou igual a 6.\n",
        "\n",
        "cont = 1\n",
        "\n",
        "while contador <= 60:\n",
        "    nota1 = float(input(f\"Digite a primeira nota do aluno {cont}: \"))\n",
        "    nota2 = float(input(f\"Digite a segunda nota do aluno {cont}: \"))\n",
        "    media = (nota1 + nota2) / 2\n",
        "    if media >= 6:\n",
        "        print(f\"Aluno {cont} aprovado com média {media}\")\n",
        "    else:\n",
        "        print(f\"Aluno {cont} reprovado com média {media:}\")\n",
        "\n",
        "    contador += 1\n",
        "\n"
      ],
      "metadata": {
        "id": "yBKcGY4-fanB"
      },
      "execution_count": null,
      "outputs": []
    },
    {
      "cell_type": "code",
      "source": [],
      "metadata": {
        "id": "st-gKwZMj3r-"
      },
      "execution_count": null,
      "outputs": []
    },
    {
      "cell_type": "code",
      "source": [
        "#Melhore o algoritmo do exercício 1, e determine a quantidade de alunos aprovados e reprovados na referida classe.\n",
        "\n",
        "cont = 1\n",
        "aprov = 0\n",
        "reprov = 0\n",
        "\n",
        "while contador <= 60:\n",
        "    nota1 = float(input(f\"Digite a primeira nota do aluno {cont}: \"))\n",
        "    nota2 = float(input(f\"Digite a segunda nota do aluno {cont}: \"))\n",
        "    media = (nota1 + nota2) / 2\n",
        "    if media >= 6:\n",
        "        print(f\"Aluno {cont} aprovado\")\n",
        "        aprov += 1\n",
        "    else:\n",
        "        print(f\"Aluno {cont} reprovado\")\n",
        "        reprov += 1\n",
        "    contador += 1\n",
        "    print(f\"Alunos aprovados {aprov}\")\n",
        "    print(f\"alunos reprovados {reprov}\")\n"
      ],
      "metadata": {
        "colab": {
          "base_uri": "https://localhost:8080/",
          "height": 425
        },
        "id": "ajvIBcaZiqHL",
        "outputId": "359d3a91-9791-4a26-f961-682d1a363154"
      },
      "execution_count": null,
      "outputs": [
        {
          "name": "stdout",
          "output_type": "stream",
          "text": [
            "Aluno 3 reprovado com média 2.5\n",
            "Alunos aprovados 0\n",
            "alunos reprovados 1\n",
            "Digite a primeira nota do aluno 4: 6\n"
          ]
        },
        {
          "output_type": "error",
          "ename": "KeyboardInterrupt",
          "evalue": "Interrupted by user",
          "traceback": [
            "\u001b[0;31m---------------------------------------------------------------------------\u001b[0m",
            "\u001b[0;31mKeyboardInterrupt\u001b[0m                         Traceback (most recent call last)",
            "\u001b[0;32m<ipython-input-30-1a8b66f45d01>\u001b[0m in \u001b[0;36m<cell line: 0>\u001b[0;34m()\u001b[0m\n\u001b[1;32m      7\u001b[0m \u001b[0;32mwhile\u001b[0m \u001b[0mcontador\u001b[0m \u001b[0;34m<=\u001b[0m \u001b[0;36m60\u001b[0m\u001b[0;34m:\u001b[0m\u001b[0;34m\u001b[0m\u001b[0;34m\u001b[0m\u001b[0m\n\u001b[1;32m      8\u001b[0m     \u001b[0mnota1\u001b[0m \u001b[0;34m=\u001b[0m \u001b[0mfloat\u001b[0m\u001b[0;34m(\u001b[0m\u001b[0minput\u001b[0m\u001b[0;34m(\u001b[0m\u001b[0;34mf\"Digite a primeira nota do aluno {contador}: \"\u001b[0m\u001b[0;34m)\u001b[0m\u001b[0;34m)\u001b[0m\u001b[0;34m\u001b[0m\u001b[0;34m\u001b[0m\u001b[0m\n\u001b[0;32m----> 9\u001b[0;31m     \u001b[0mnota2\u001b[0m \u001b[0;34m=\u001b[0m \u001b[0mfloat\u001b[0m\u001b[0;34m(\u001b[0m\u001b[0minput\u001b[0m\u001b[0;34m(\u001b[0m\u001b[0;34mf\"Digite a segunda nota do aluno {contador}: \"\u001b[0m\u001b[0;34m)\u001b[0m\u001b[0;34m)\u001b[0m\u001b[0;34m\u001b[0m\u001b[0;34m\u001b[0m\u001b[0m\n\u001b[0m\u001b[1;32m     10\u001b[0m     \u001b[0mmedia\u001b[0m \u001b[0;34m=\u001b[0m \u001b[0;34m(\u001b[0m\u001b[0mnota1\u001b[0m \u001b[0;34m+\u001b[0m \u001b[0mnota2\u001b[0m\u001b[0;34m)\u001b[0m \u001b[0;34m/\u001b[0m \u001b[0;36m2\u001b[0m\u001b[0;34m\u001b[0m\u001b[0;34m\u001b[0m\u001b[0m\n\u001b[1;32m     11\u001b[0m     \u001b[0;32mif\u001b[0m \u001b[0mmedia\u001b[0m \u001b[0;34m>=\u001b[0m \u001b[0;36m6\u001b[0m\u001b[0;34m:\u001b[0m\u001b[0;34m\u001b[0m\u001b[0;34m\u001b[0m\u001b[0m\n",
            "\u001b[0;32m/usr/local/lib/python3.11/dist-packages/ipykernel/kernelbase.py\u001b[0m in \u001b[0;36mraw_input\u001b[0;34m(self, prompt)\u001b[0m\n\u001b[1;32m   1175\u001b[0m                 \u001b[0;34m\"raw_input was called, but this frontend does not support input requests.\"\u001b[0m\u001b[0;34m\u001b[0m\u001b[0;34m\u001b[0m\u001b[0m\n\u001b[1;32m   1176\u001b[0m             )\n\u001b[0;32m-> 1177\u001b[0;31m         return self._input_request(\n\u001b[0m\u001b[1;32m   1178\u001b[0m             \u001b[0mstr\u001b[0m\u001b[0;34m(\u001b[0m\u001b[0mprompt\u001b[0m\u001b[0;34m)\u001b[0m\u001b[0;34m,\u001b[0m\u001b[0;34m\u001b[0m\u001b[0;34m\u001b[0m\u001b[0m\n\u001b[1;32m   1179\u001b[0m             \u001b[0mself\u001b[0m\u001b[0;34m.\u001b[0m\u001b[0m_parent_ident\u001b[0m\u001b[0;34m[\u001b[0m\u001b[0;34m\"shell\"\u001b[0m\u001b[0;34m]\u001b[0m\u001b[0;34m,\u001b[0m\u001b[0;34m\u001b[0m\u001b[0;34m\u001b[0m\u001b[0m\n",
            "\u001b[0;32m/usr/local/lib/python3.11/dist-packages/ipykernel/kernelbase.py\u001b[0m in \u001b[0;36m_input_request\u001b[0;34m(self, prompt, ident, parent, password)\u001b[0m\n\u001b[1;32m   1217\u001b[0m             \u001b[0;32mexcept\u001b[0m \u001b[0mKeyboardInterrupt\u001b[0m\u001b[0;34m:\u001b[0m\u001b[0;34m\u001b[0m\u001b[0;34m\u001b[0m\u001b[0m\n\u001b[1;32m   1218\u001b[0m                 \u001b[0;31m# re-raise KeyboardInterrupt, to truncate traceback\u001b[0m\u001b[0;34m\u001b[0m\u001b[0;34m\u001b[0m\u001b[0m\n\u001b[0;32m-> 1219\u001b[0;31m                 \u001b[0;32mraise\u001b[0m \u001b[0mKeyboardInterrupt\u001b[0m\u001b[0;34m(\u001b[0m\u001b[0;34m\"Interrupted by user\"\u001b[0m\u001b[0;34m)\u001b[0m \u001b[0;32mfrom\u001b[0m \u001b[0;32mNone\u001b[0m\u001b[0;34m\u001b[0m\u001b[0;34m\u001b[0m\u001b[0m\n\u001b[0m\u001b[1;32m   1220\u001b[0m             \u001b[0;32mexcept\u001b[0m \u001b[0mException\u001b[0m\u001b[0;34m:\u001b[0m\u001b[0;34m\u001b[0m\u001b[0;34m\u001b[0m\u001b[0m\n\u001b[1;32m   1221\u001b[0m                 \u001b[0mself\u001b[0m\u001b[0;34m.\u001b[0m\u001b[0mlog\u001b[0m\u001b[0;34m.\u001b[0m\u001b[0mwarning\u001b[0m\u001b[0;34m(\u001b[0m\u001b[0;34m\"Invalid Message:\"\u001b[0m\u001b[0;34m,\u001b[0m \u001b[0mexc_info\u001b[0m\u001b[0;34m=\u001b[0m\u001b[0;32mTrue\u001b[0m\u001b[0;34m)\u001b[0m\u001b[0;34m\u001b[0m\u001b[0;34m\u001b[0m\u001b[0m\n",
            "\u001b[0;31mKeyboardInterrupt\u001b[0m: Interrupted by user"
          ]
        }
      ]
    },
    {
      "cell_type": "code",
      "source": [
        "#Elabore um algoritmo que melhore o algoritmo do exercício 1, calculando a média geral da classe (somar todas as médias e depois dividi-la pelo total de alunos da turma).\n",
        "\n",
        "cont = 1\n",
        "aprov = 0\n",
        "reprov = 0\n",
        "soma_medias = 0\n",
        "while cont <= 60:\n",
        "    nota1 = float(input(\"Digite a primeira nota: \"))\n",
        "    nota2 = float(input(\"Digite a segunda nota: \"))\n",
        "    media = (nota1 + nota2) / 2\n",
        "    soma_medias += media\n",
        "    media_geral = soma_medias / cont\n",
        "    if media >= 6:\n",
        "        print(f\"Aluno {cont} aprovado\")\n",
        "        aprov += 1\n",
        "    else:\n",
        "        print(f\"Aluno {cont} reprovado\")\n",
        "        reprov += 1\n",
        "    print(f\"Média do aluno {cont}: {media}\")\n",
        "    print(f\"Média geral da turma até o momento: {media_geral}\")\n",
        "    cont += 1\n",
        "print(f\"Alunos aprovados {aprov}\")\n",
        "print(f\"alunos reprovados {reprov}\")\n",
        "print(f\"meedia geral final da classe: {media_geral}\")\n"
      ],
      "metadata": {
        "id": "liUvr07mj68g",
        "colab": {
          "base_uri": "https://localhost:8080/"
        },
        "outputId": "24068d2f-da5e-4b61-d047-83fa91f24d5c"
      },
      "execution_count": null,
      "outputs": [
        {
          "metadata": {
            "tags": null
          },
          "name": "stdout",
          "output_type": "stream",
          "text": [
            "Aluno 1 aprovado\n",
            "Média do aluno 1: 6.0\n",
            "Média geral da turma até o momento: 6.0\n"
          ]
        }
      ]
    },
    {
      "cell_type": "code",
      "source": [
        "#6.) Elabore um algoritmo que leia um número e calcule a soma dos número menores ou iguais a ele, começando pelo 1.\n",
        "\n",
        "num = int(input(\"Digite um número: \"))\n",
        "soma = 0\n",
        "cont = 1\n",
        "while cont <= num:\n",
        "    soma += cont\n",
        "    cont += 1\n",
        "print(f\"A soma dos números de 1 até {num} é: {soma}\")\n"
      ],
      "metadata": {
        "id": "iNOCLencnZUs"
      },
      "execution_count": null,
      "outputs": []
    }
  ],
  "metadata": {
    "colab": {
      "provenance": []
    },
    "kernelspec": {
      "display_name": "Python 3",
      "name": "python3"
    },
    "language_info": {
      "name": "python"
    }
  },
  "nbformat": 4,
  "nbformat_minor": 0
}