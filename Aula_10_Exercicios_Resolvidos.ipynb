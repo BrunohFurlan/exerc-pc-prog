{
 "cells": [
  {
   "cell_type": "markdown",
   "id": "2912e14e",
   "metadata": {},
   "source": [
    "# Aula 10 – Exercícios Resolvidos com `while`\n",
    "\n",
    "Este notebook contém a resolução dos exercícios da Aula 10, utilizando apenas o laço `while`, conforme o conteúdo visto até agora."
   ]
  },
  {
   "cell_type": "markdown",
   "id": "5d75a311",
   "metadata": {},
   "source": [
    "## ✅ Exercício 1: Mostrar anos bissextos até um ano informado"
   ]
  },
  {
   "cell_type": "code",
   "execution_count": null,
   "id": "c9875d11",
   "metadata": {},
   "outputs": [],
   "source": [
    "ano_final = int(input(\"Digite um ano: \"))\n",
    "ano = 1\n",
    "\n",
    "print(\"Anos bissextos até\", ano_final, \":\")\n",
    "\n",
    "while ano <= ano_final:\n",
    "    if (ano % 400 == 0) or (ano % 4 == 0 and ano % 100 != 0):\n",
    "        print(ano)\n",
    "    ano += 1"
   ]
  },
  {
   "cell_type": "markdown",
   "id": "fb4dfcbf",
   "metadata": {},
   "source": [
    "## ✅ Exercício 2: Mostrar os 100 primeiros valores da sequência acumulativa"
   ]
  },
  {
   "cell_type": "code",
   "execution_count": null,
   "id": "e3f5f3bc",
   "metadata": {},
   "outputs": [],
   "source": [
    "valor = 1\n",
    "incremento = 1\n",
    "contador = 1\n",
    "\n",
    "while contador <= 100:\n",
    "    print(valor)\n",
    "    incremento += 1\n",
    "    valor += incremento\n",
    "    contador += 1"
   ]
  },
  {
   "cell_type": "markdown",
   "id": "a6a47695",
   "metadata": {},
   "source": [
    "## ✅ Exercício 3: Mostrar os N primeiros valores da sequência BCC"
   ]
  },
  {
   "cell_type": "code",
   "execution_count": null,
   "id": "b61036e7",
   "metadata": {},
   "outputs": [],
   "source": [
    "n = int(input(\"Digite quantos valores da sequência BCC deseja ver: \"))\n",
    "termo1 = 1\n",
    "termo2 = 2\n",
    "sinal = 1\n",
    "contador = 3\n",
    "\n",
    "print(termo1)\n",
    "print(termo2)\n",
    "\n",
    "while contador <= n:\n",
    "    proximo = termo2 - termo1\n",
    "    proximo = proximo * (-1) if sinal < 0 else proximo\n",
    "    print(proximo)\n",
    "    termo1 = termo2\n",
    "    termo2 = proximo\n",
    "    sinal *= -1\n",
    "    contador += 1"
   ]
  }
 ],
 "metadata": {},
 "nbformat": 4,
 "nbformat_minor": 5
}
